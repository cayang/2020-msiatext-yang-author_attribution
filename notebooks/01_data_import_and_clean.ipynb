{
 "cells": [
  {
   "cell_type": "code",
   "execution_count": 1,
   "metadata": {},
   "outputs": [
    {
     "data": {
      "application/javascript": [
       "\n",
       "            setTimeout(function() {\n",
       "                var nbb_cell_id = 1;\n",
       "                var nbb_unformatted_code = \"%load_ext nb_black\";\n",
       "                var nbb_formatted_code = \"%load_ext nb_black\";\n",
       "                var nbb_cells = Jupyter.notebook.get_cells();\n",
       "                for (var i = 0; i < nbb_cells.length; ++i) {\n",
       "                    if (nbb_cells[i].input_prompt_number == nbb_cell_id) {\n",
       "                        if (nbb_cells[i].get_text() == nbb_unformatted_code) {\n",
       "                             nbb_cells[i].set_text(nbb_formatted_code);\n",
       "                        }\n",
       "                        break;\n",
       "                    }\n",
       "                }\n",
       "            }, 500);\n",
       "            "
      ],
      "text/plain": [
       "<IPython.core.display.Javascript object>"
      ]
     },
     "metadata": {},
     "output_type": "display_data"
    }
   ],
   "source": [
    "%load_ext nb_black"
   ]
  },
  {
   "cell_type": "code",
   "execution_count": 2,
   "metadata": {},
   "outputs": [
    {
     "data": {
      "application/javascript": [
       "\n",
       "            setTimeout(function() {\n",
       "                var nbb_cell_id = 2;\n",
       "                var nbb_unformatted_code = \"import pandas as pd\\nimport urllib\\nimport requests\\nimport regex as re\\nfrom bs4 import BeautifulSoup\\n\\nimport gutenberg_cleaner as gclean\\n\\nimport nltk\\nfrom nltk.tokenize import word_tokenize\\nfrom nltk.corpus import stopwords\\n\\nfrom gensim.models import Word2Vec\";\n",
       "                var nbb_formatted_code = \"import pandas as pd\\nimport urllib\\nimport requests\\nimport regex as re\\nfrom bs4 import BeautifulSoup\\n\\nimport gutenberg_cleaner as gclean\\n\\nimport nltk\\nfrom nltk.tokenize import word_tokenize\\nfrom nltk.corpus import stopwords\\n\\nfrom gensim.models import Word2Vec\";\n",
       "                var nbb_cells = Jupyter.notebook.get_cells();\n",
       "                for (var i = 0; i < nbb_cells.length; ++i) {\n",
       "                    if (nbb_cells[i].input_prompt_number == nbb_cell_id) {\n",
       "                        if (nbb_cells[i].get_text() == nbb_unformatted_code) {\n",
       "                             nbb_cells[i].set_text(nbb_formatted_code);\n",
       "                        }\n",
       "                        break;\n",
       "                    }\n",
       "                }\n",
       "            }, 500);\n",
       "            "
      ],
      "text/plain": [
       "<IPython.core.display.Javascript object>"
      ]
     },
     "metadata": {},
     "output_type": "display_data"
    }
   ],
   "source": [
    "import pandas as pd\n",
    "import urllib\n",
    "import requests\n",
    "import regex as re\n",
    "from bs4 import BeautifulSoup\n",
    "\n",
    "import gutenberg_cleaner as gclean\n",
    "\n",
    "import nltk\n",
    "from nltk.tokenize import word_tokenize\n",
    "\n",
    "from gensim.models import Word2Vec"
   ]
  },
  {
   "cell_type": "code",
   "execution_count": 3,
   "metadata": {},
   "outputs": [
    {
     "data": {
      "application/javascript": [
       "\n",
       "            setTimeout(function() {\n",
       "                var nbb_cell_id = 3;\n",
       "                var nbb_unformatted_code = \"# Parameters\\nbook_list = \\\"../data/book_list.csv\\\"\\n\\nREMOVE_WORDS = [\\\"[deleted]\\\"]\";\n",
       "                var nbb_formatted_code = \"# Parameters\\nbook_list = \\\"../data/book_list.csv\\\"\\n\\nREMOVE_WORDS = [\\\"[deleted]\\\"]\";\n",
       "                var nbb_cells = Jupyter.notebook.get_cells();\n",
       "                for (var i = 0; i < nbb_cells.length; ++i) {\n",
       "                    if (nbb_cells[i].input_prompt_number == nbb_cell_id) {\n",
       "                        if (nbb_cells[i].get_text() == nbb_unformatted_code) {\n",
       "                             nbb_cells[i].set_text(nbb_formatted_code);\n",
       "                        }\n",
       "                        break;\n",
       "                    }\n",
       "                }\n",
       "            }, 500);\n",
       "            "
      ],
      "text/plain": [
       "<IPython.core.display.Javascript object>"
      ]
     },
     "metadata": {},
     "output_type": "display_data"
    }
   ],
   "source": [
    "# Parameters\n",
    "book_list = \"../data/book_list.csv\"\n",
    "\n",
    "REMOVE_WORDS = [\"[deleted]\"]\n",
    "chapter_regex = re.compile(\"(I.)[\\s\\w\\\\n]*(II).[\\s\\w\\\\n]*(III).[\\s\\w\\\\n]*\")"
   ]
  },
  {
   "cell_type": "code",
   "execution_count": 5,
   "metadata": {},
   "outputs": [
    {
     "data": {
      "application/javascript": [
       "\n",
       "            setTimeout(function() {\n",
       "                var nbb_cell_id = 5;\n",
       "                var nbb_unformatted_code = \"# Get list of books and their links\\ndf = pd.read_csv(book_list)\";\n",
       "                var nbb_formatted_code = \"# Get list of books and their links\\ndf = pd.read_csv(book_list)\";\n",
       "                var nbb_cells = Jupyter.notebook.get_cells();\n",
       "                for (var i = 0; i < nbb_cells.length; ++i) {\n",
       "                    if (nbb_cells[i].input_prompt_number == nbb_cell_id) {\n",
       "                        if (nbb_cells[i].get_text() == nbb_unformatted_code) {\n",
       "                             nbb_cells[i].set_text(nbb_formatted_code);\n",
       "                        }\n",
       "                        break;\n",
       "                    }\n",
       "                }\n",
       "            }, 500);\n",
       "            "
      ],
      "text/plain": [
       "<IPython.core.display.Javascript object>"
      ]
     },
     "metadata": {},
     "output_type": "display_data"
    }
   ],
   "source": [
    "# Get list of books and their links\n",
    "df = pd.read_csv(book_list)"
   ]
  },
  {
   "cell_type": "markdown",
   "metadata": {},
   "source": [
    "# Get Text from Web"
   ]
  },
  {
   "cell_type": "code",
   "execution_count": 6,
   "metadata": {},
   "outputs": [
    {
     "data": {
      "application/javascript": [
       "\n",
       "            setTimeout(function() {\n",
       "                var nbb_cell_id = 6;\n",
       "                var nbb_unformatted_code = \"def clean_paragraphs(par):\\n\\n    # Replace special characters\\n    par = par.replace(\\\"\\\\n\\\", \\\" \\\")\\n    par = par.replace(\\\"\\\\\\\\\\\", \\\"\\\")\\n\\n    # Remove leading whitespace\\n    par = par.lstrip()\\n\\n    return par\";\n",
       "                var nbb_formatted_code = \"def clean_paragraphs(par):\\n\\n    # Replace special characters\\n    par = par.replace(\\\"\\\\n\\\", \\\" \\\")\\n    par = par.replace(\\\"\\\\\\\\\\\", \\\"\\\")\\n\\n    # Remove leading whitespace\\n    par = par.lstrip()\\n\\n    return par\";\n",
       "                var nbb_cells = Jupyter.notebook.get_cells();\n",
       "                for (var i = 0; i < nbb_cells.length; ++i) {\n",
       "                    if (nbb_cells[i].input_prompt_number == nbb_cell_id) {\n",
       "                        if (nbb_cells[i].get_text() == nbb_unformatted_code) {\n",
       "                             nbb_cells[i].set_text(nbb_formatted_code);\n",
       "                        }\n",
       "                        break;\n",
       "                    }\n",
       "                }\n",
       "            }, 500);\n",
       "            "
      ],
      "text/plain": [
       "<IPython.core.display.Javascript object>"
      ]
     },
     "metadata": {},
     "output_type": "display_data"
    }
   ],
   "source": [
    "def clean_paragraphs(par):\n",
    "\n",
    "    # Replace special characters\n",
    "    par = par.replace(\"\\n\", \" \")\n",
    "    par = par.replace(\"\\\\\", \"\")\n",
    "\n",
    "    # Remove leading whitespace\n",
    "    par = par.lstrip()\n",
    "\n",
    "    return par"
   ]
  },
  {
   "cell_type": "code",
   "execution_count": 13,
   "metadata": {},
   "outputs": [
    {
     "data": {
      "application/javascript": [
       "\n",
       "            setTimeout(function() {\n",
       "                var nbb_cell_id = 13;\n",
       "                var nbb_unformatted_code = \"X = []\\ny = []\\nstop_words = set(stopwords.words(\\\"english\\\"))\";\n",
       "                var nbb_formatted_code = \"X = []\\ny = []\\nstop_words = set(stopwords.words(\\\"english\\\"))\";\n",
       "                var nbb_cells = Jupyter.notebook.get_cells();\n",
       "                for (var i = 0; i < nbb_cells.length; ++i) {\n",
       "                    if (nbb_cells[i].input_prompt_number == nbb_cell_id) {\n",
       "                        if (nbb_cells[i].get_text() == nbb_unformatted_code) {\n",
       "                             nbb_cells[i].set_text(nbb_formatted_code);\n",
       "                        }\n",
       "                        break;\n",
       "                    }\n",
       "                }\n",
       "            }, 500);\n",
       "            "
      ],
      "text/plain": [
       "<IPython.core.display.Javascript object>"
      ]
     },
     "metadata": {},
     "output_type": "display_data"
    }
   ],
   "source": [
    "X = []\n",
    "y = []\n",
    "stop_words = set(stopwords.words(\"english\"))"
   ]
  },
  {
   "cell_type": "code",
   "execution_count": 14,
   "metadata": {},
   "outputs": [
    {
     "data": {
      "application/javascript": [
       "\n",
       "            setTimeout(function() {\n",
       "                var nbb_cell_id = 14;\n",
       "                var nbb_unformatted_code = \"for _, row in df.iterrows():\\n    label = row.get(\\\"author\\\")\\n    target_url = row.get(\\\"link\\\")\\n\\n    # Get text\\n    soup_html = urllib.request.urlopen(target_url).read()\\n    text = str(BeautifulSoup(soup_html))\\n    text_clean = gclean.super_cleaner(text)\\n\\n    # Separate into paragraphs\\n    paragraphs = text_clean.split(\\\"\\\\n\\\\n\\\")\\n    paragraphs = [item for item in paragraphs if item not in REMOVE_WORDS]\\n    paragraphs = [par for par in paragraphs if re.search(chapter_regex, par) is None]\\n\\n    # Clean paragraphs\\n    paragraphs = list(map(lambda x: clean_paragraphs(x), paragraphs))\\n\\n    # Append to data\\n    X.extend(paragraphs)\\n    y.extend([label] * len(paragraphs))\";\n",
       "                var nbb_formatted_code = \"for _, row in df.iterrows():\\n    label = row.get(\\\"author\\\")\\n    target_url = row.get(\\\"link\\\")\\n\\n    # Get text\\n    soup_html = urllib.request.urlopen(target_url).read()\\n    text = str(BeautifulSoup(soup_html))\\n    text_clean = gclean.super_cleaner(text)\\n\\n    # Separate into paragraphs\\n    paragraphs = text_clean.split(\\\"\\\\n\\\\n\\\")\\n    paragraphs = [item for item in paragraphs if item not in REMOVE_WORDS]\\n    paragraphs = [par for par in paragraphs if re.search(chapter_regex, par) is None]\\n\\n    # Clean paragraphs\\n    paragraphs = list(map(lambda x: clean_paragraphs(x), paragraphs))\\n\\n    # Append to data\\n    X.extend(paragraphs)\\n    y.extend([label] * len(paragraphs))\";\n",
       "                var nbb_cells = Jupyter.notebook.get_cells();\n",
       "                for (var i = 0; i < nbb_cells.length; ++i) {\n",
       "                    if (nbb_cells[i].input_prompt_number == nbb_cell_id) {\n",
       "                        if (nbb_cells[i].get_text() == nbb_unformatted_code) {\n",
       "                             nbb_cells[i].set_text(nbb_formatted_code);\n",
       "                        }\n",
       "                        break;\n",
       "                    }\n",
       "                }\n",
       "            }, 500);\n",
       "            "
      ],
      "text/plain": [
       "<IPython.core.display.Javascript object>"
      ]
     },
     "metadata": {},
     "output_type": "display_data"
    }
   ],
   "source": [
    "for _, row in df.iterrows():\n",
    "    label = row.get(\"author\")\n",
    "    target_url = row.get(\"link\")\n",
    "\n",
    "    # Get text\n",
    "    soup_html = urllib.request.urlopen(target_url).read()\n",
    "    text = str(BeautifulSoup(soup_html))\n",
    "    text_clean = gclean.super_cleaner(text)\n",
    "\n",
    "    # Separate into paragraphs\n",
    "    paragraphs = text_clean.split(\"\\n\\n\")\n",
    "    paragraphs = [item for item in paragraphs if item not in REMOVE_WORDS]\n",
    "    paragraphs = [par for par in paragraphs if re.search(chapter_regex, par) is None]\n",
    "\n",
    "    # Clean paragraphs\n",
    "    paragraphs = list(map(lambda x: clean_paragraphs(x), paragraphs))\n",
    "\n",
    "    # Append to data\n",
    "    X.extend(paragraphs)\n",
    "    y.extend([label] * len(paragraphs))"
   ]
  },
  {
   "cell_type": "code",
   "execution_count": 18,
   "metadata": {},
   "outputs": [
    {
     "data": {
      "application/javascript": [
       "\n",
       "            setTimeout(function() {\n",
       "                var nbb_cell_id = 18;\n",
       "                var nbb_unformatted_code = \"# Create an output set\\nout_data = pd.DataFrame({\\\"text\\\": X, \\\"label\\\": y})\\nout_data.to_csv(\\\"../data/clean_data.csv\\\")\";\n",
       "                var nbb_formatted_code = \"# Create an output set\\nout_data = pd.DataFrame({\\\"text\\\": X, \\\"label\\\": y})\\nout_data.to_csv(\\\"../data/clean_data.csv\\\")\";\n",
       "                var nbb_cells = Jupyter.notebook.get_cells();\n",
       "                for (var i = 0; i < nbb_cells.length; ++i) {\n",
       "                    if (nbb_cells[i].input_prompt_number == nbb_cell_id) {\n",
       "                        if (nbb_cells[i].get_text() == nbb_unformatted_code) {\n",
       "                             nbb_cells[i].set_text(nbb_formatted_code);\n",
       "                        }\n",
       "                        break;\n",
       "                    }\n",
       "                }\n",
       "            }, 500);\n",
       "            "
      ],
      "text/plain": [
       "<IPython.core.display.Javascript object>"
      ]
     },
     "metadata": {},
     "output_type": "display_data"
    }
   ],
   "source": [
    "# Create an output set\n",
    "# out_data = pd.DataFrame({\"text\": X, \"label\": y})\n",
    "# out_data.to_csv(\"../data/clean_data.csv\", index=False)"
   ]
  },
  {
   "cell_type": "markdown",
   "metadata": {},
   "source": [
    "# Quick Descriptive Stats"
   ]
  },
  {
   "cell_type": "code",
   "execution_count": 19,
   "metadata": {},
   "outputs": [
    {
     "data": {
      "text/html": [
       "<div>\n",
       "<style scoped>\n",
       "    .dataframe tbody tr th:only-of-type {\n",
       "        vertical-align: middle;\n",
       "    }\n",
       "\n",
       "    .dataframe tbody tr th {\n",
       "        vertical-align: top;\n",
       "    }\n",
       "\n",
       "    .dataframe thead th {\n",
       "        text-align: right;\n",
       "    }\n",
       "</style>\n",
       "<table border=\"1\" class=\"dataframe\">\n",
       "  <thead>\n",
       "    <tr style=\"text-align: right;\">\n",
       "      <th></th>\n",
       "      <th>text</th>\n",
       "    </tr>\n",
       "    <tr>\n",
       "      <th>label</th>\n",
       "      <th></th>\n",
       "    </tr>\n",
       "  </thead>\n",
       "  <tbody>\n",
       "    <tr>\n",
       "      <th>Austen, Jane</th>\n",
       "      <td>7607</td>\n",
       "    </tr>\n",
       "    <tr>\n",
       "      <th>Christie, Agatha</th>\n",
       "      <td>12354</td>\n",
       "    </tr>\n",
       "    <tr>\n",
       "      <th>Dickens, Charles</th>\n",
       "      <td>25037</td>\n",
       "    </tr>\n",
       "    <tr>\n",
       "      <th>Dostoyevsky, Fyodor</th>\n",
       "      <td>15421</td>\n",
       "    </tr>\n",
       "    <tr>\n",
       "      <th>Hugo, Victor</th>\n",
       "      <td>23405</td>\n",
       "    </tr>\n",
       "    <tr>\n",
       "      <th>London, Jack</th>\n",
       "      <td>8340</td>\n",
       "    </tr>\n",
       "    <tr>\n",
       "      <th>Stowe, Harriett Beecher</th>\n",
       "      <td>12794</td>\n",
       "    </tr>\n",
       "    <tr>\n",
       "      <th>Twain, Mark</th>\n",
       "      <td>10837</td>\n",
       "    </tr>\n",
       "  </tbody>\n",
       "</table>\n",
       "</div>"
      ],
      "text/plain": [
       "                          text\n",
       "label                         \n",
       "Austen, Jane              7607\n",
       "Christie, Agatha         12354\n",
       "Dickens, Charles         25037\n",
       "Dostoyevsky, Fyodor      15421\n",
       "Hugo, Victor             23405\n",
       "London, Jack              8340\n",
       "Stowe, Harriett Beecher  12794\n",
       "Twain, Mark              10837"
      ]
     },
     "execution_count": 19,
     "metadata": {},
     "output_type": "execute_result"
    },
    {
     "data": {
      "application/javascript": [
       "\n",
       "            setTimeout(function() {\n",
       "                var nbb_cell_id = 19;\n",
       "                var nbb_unformatted_code = \"out_data.groupby(\\\"label\\\").count()\";\n",
       "                var nbb_formatted_code = \"out_data.groupby(\\\"label\\\").count()\";\n",
       "                var nbb_cells = Jupyter.notebook.get_cells();\n",
       "                for (var i = 0; i < nbb_cells.length; ++i) {\n",
       "                    if (nbb_cells[i].input_prompt_number == nbb_cell_id) {\n",
       "                        if (nbb_cells[i].get_text() == nbb_unformatted_code) {\n",
       "                             nbb_cells[i].set_text(nbb_formatted_code);\n",
       "                        }\n",
       "                        break;\n",
       "                    }\n",
       "                }\n",
       "            }, 500);\n",
       "            "
      ],
      "text/plain": [
       "<IPython.core.display.Javascript object>"
      ]
     },
     "metadata": {},
     "output_type": "display_data"
    }
   ],
   "source": [
    "out_data.groupby(\"label\").count()"
   ]
  },
  {
   "cell_type": "code",
   "execution_count": 20,
   "metadata": {},
   "outputs": [
    {
     "data": {
      "application/javascript": [
       "\n",
       "            setTimeout(function() {\n",
       "                var nbb_cell_id = 20;\n",
       "                var nbb_unformatted_code = \"out_data.loc[:, \\\"text_tokenized\\\"] = [word_tokenize(text) for text in out_data[\\\"text\\\"]]\";\n",
       "                var nbb_formatted_code = \"out_data.loc[:, \\\"text_tokenized\\\"] = [word_tokenize(text) for text in out_data[\\\"text\\\"]]\";\n",
       "                var nbb_cells = Jupyter.notebook.get_cells();\n",
       "                for (var i = 0; i < nbb_cells.length; ++i) {\n",
       "                    if (nbb_cells[i].input_prompt_number == nbb_cell_id) {\n",
       "                        if (nbb_cells[i].get_text() == nbb_unformatted_code) {\n",
       "                             nbb_cells[i].set_text(nbb_formatted_code);\n",
       "                        }\n",
       "                        break;\n",
       "                    }\n",
       "                }\n",
       "            }, 500);\n",
       "            "
      ],
      "text/plain": [
       "<IPython.core.display.Javascript object>"
      ]
     },
     "metadata": {},
     "output_type": "display_data"
    }
   ],
   "source": [
    "out_data.loc[:, \"text_tokenized\"] = [word_tokenize(text) for text in out_data[\"text\"]]"
   ]
  },
  {
   "cell_type": "code",
   "execution_count": 21,
   "metadata": {},
   "outputs": [
    {
     "data": {
      "application/javascript": [
       "\n",
       "            setTimeout(function() {\n",
       "                var nbb_cell_id = 21;\n",
       "                var nbb_unformatted_code = \"out_data.loc[:, \\\"text_tokenized_count\\\"] = [len(tokenized) for tokenized in out_data[\\\"text_tokenized\\\"]]\";\n",
       "                var nbb_formatted_code = \"out_data.loc[:, \\\"text_tokenized_count\\\"] = [\\n    len(tokenized) for tokenized in out_data[\\\"text_tokenized\\\"]\\n]\";\n",
       "                var nbb_cells = Jupyter.notebook.get_cells();\n",
       "                for (var i = 0; i < nbb_cells.length; ++i) {\n",
       "                    if (nbb_cells[i].input_prompt_number == nbb_cell_id) {\n",
       "                        if (nbb_cells[i].get_text() == nbb_unformatted_code) {\n",
       "                             nbb_cells[i].set_text(nbb_formatted_code);\n",
       "                        }\n",
       "                        break;\n",
       "                    }\n",
       "                }\n",
       "            }, 500);\n",
       "            "
      ],
      "text/plain": [
       "<IPython.core.display.Javascript object>"
      ]
     },
     "metadata": {},
     "output_type": "display_data"
    }
   ],
   "source": [
    "out_data.loc[:, \"text_tokenized_count\"] = [\n",
    "    len(tokenized) for tokenized in out_data[\"text_tokenized\"]\n",
    "]"
   ]
  },
  {
   "cell_type": "code",
   "execution_count": 22,
   "metadata": {},
   "outputs": [
    {
     "data": {
      "text/plain": [
       "label\n",
       "Austen, Jane               84.494282\n",
       "Christie, Agatha           33.156144\n",
       "Dickens, Charles           58.157806\n",
       "Dostoyevsky, Fyodor        65.097140\n",
       "Hugo, Victor               49.331895\n",
       "London, Jack               63.851679\n",
       "Stowe, Harriett Beecher    67.888542\n",
       "Twain, Mark                72.619544\n",
       "Name: text_tokenized_count, dtype: float64"
      ]
     },
     "execution_count": 22,
     "metadata": {},
     "output_type": "execute_result"
    },
    {
     "data": {
      "application/javascript": [
       "\n",
       "            setTimeout(function() {\n",
       "                var nbb_cell_id = 22;\n",
       "                var nbb_unformatted_code = \"out_data.groupby(\\\"label\\\")[\\\"text_tokenized_count\\\"].mean()\";\n",
       "                var nbb_formatted_code = \"out_data.groupby(\\\"label\\\")[\\\"text_tokenized_count\\\"].mean()\";\n",
       "                var nbb_cells = Jupyter.notebook.get_cells();\n",
       "                for (var i = 0; i < nbb_cells.length; ++i) {\n",
       "                    if (nbb_cells[i].input_prompt_number == nbb_cell_id) {\n",
       "                        if (nbb_cells[i].get_text() == nbb_unformatted_code) {\n",
       "                             nbb_cells[i].set_text(nbb_formatted_code);\n",
       "                        }\n",
       "                        break;\n",
       "                    }\n",
       "                }\n",
       "            }, 500);\n",
       "            "
      ],
      "text/plain": [
       "<IPython.core.display.Javascript object>"
      ]
     },
     "metadata": {},
     "output_type": "display_data"
    }
   ],
   "source": [
    "out_data.groupby(\"label\")[\"text_tokenized_count\"].mean()"
   ]
  }
 ],
 "metadata": {
  "kernelspec": {
   "display_name": "Python 3",
   "language": "python",
   "name": "python3"
  },
  "language_info": {
   "codemirror_mode": {
    "name": "ipython",
    "version": 3
   },
   "file_extension": ".py",
   "mimetype": "text/x-python",
   "name": "python",
   "nbconvert_exporter": "python",
   "pygments_lexer": "ipython3",
   "version": "3.7.6"
  }
 },
 "nbformat": 4,
 "nbformat_minor": 4
}

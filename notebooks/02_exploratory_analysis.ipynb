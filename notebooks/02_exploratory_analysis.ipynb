{
 "cells": [
  {
   "cell_type": "code",
   "execution_count": 1,
   "metadata": {},
   "outputs": [
    {
     "data": {
      "application/javascript": [
       "\n",
       "            setTimeout(function() {\n",
       "                var nbb_cell_id = 1;\n",
       "                var nbb_unformatted_code = \"%load_ext nb_black\";\n",
       "                var nbb_formatted_code = \"%load_ext nb_black\";\n",
       "                var nbb_cells = Jupyter.notebook.get_cells();\n",
       "                for (var i = 0; i < nbb_cells.length; ++i) {\n",
       "                    if (nbb_cells[i].input_prompt_number == nbb_cell_id) {\n",
       "                        if (nbb_cells[i].get_text() == nbb_unformatted_code) {\n",
       "                             nbb_cells[i].set_text(nbb_formatted_code);\n",
       "                        }\n",
       "                        break;\n",
       "                    }\n",
       "                }\n",
       "            }, 500);\n",
       "            "
      ],
      "text/plain": [
       "<IPython.core.display.Javascript object>"
      ]
     },
     "metadata": {},
     "output_type": "display_data"
    }
   ],
   "source": [
    "%load_ext nb_black"
   ]
  },
  {
   "cell_type": "code",
   "execution_count": 2,
   "metadata": {},
   "outputs": [
    {
     "data": {
      "application/javascript": [
       "\n",
       "            setTimeout(function() {\n",
       "                var nbb_cell_id = 2;\n",
       "                var nbb_unformatted_code = \"import pandas as pd\\nimport string\\n\\nfrom nltk.tokenize import word_tokenize, sent_tokenize\\nimport matplotlib.pyplot as plt\";\n",
       "                var nbb_formatted_code = \"import pandas as pd\\nimport string\\n\\nfrom nltk.tokenize import word_tokenize, sent_tokenize\\nimport matplotlib.pyplot as plt\";\n",
       "                var nbb_cells = Jupyter.notebook.get_cells();\n",
       "                for (var i = 0; i < nbb_cells.length; ++i) {\n",
       "                    if (nbb_cells[i].input_prompt_number == nbb_cell_id) {\n",
       "                        if (nbb_cells[i].get_text() == nbb_unformatted_code) {\n",
       "                             nbb_cells[i].set_text(nbb_formatted_code);\n",
       "                        }\n",
       "                        break;\n",
       "                    }\n",
       "                }\n",
       "            }, 500);\n",
       "            "
      ],
      "text/plain": [
       "<IPython.core.display.Javascript object>"
      ]
     },
     "metadata": {},
     "output_type": "display_data"
    }
   ],
   "source": [
    "import pandas as pd\n",
    "import string\n",
    "\n",
    "from nltk.tokenize import word_tokenize, sent_tokenize\n",
    "import matplotlib.pyplot as plt"
   ]
  },
  {
   "cell_type": "code",
   "execution_count": 11,
   "metadata": {},
   "outputs": [
    {
     "data": {
      "application/javascript": [
       "\n",
       "            setTimeout(function() {\n",
       "                var nbb_cell_id = 11;\n",
       "                var nbb_unformatted_code = \"filepath = \\\"../data/clean_data.csv\\\"\\nfilepath_replaced = \\\"../data/clean_data_replaced.csv\\\"\";\n",
       "                var nbb_formatted_code = \"filepath = \\\"../data/clean_data.csv\\\"\\nfilepath_replaced = \\\"../data/clean_data_replaced.csv\\\"\";\n",
       "                var nbb_cells = Jupyter.notebook.get_cells();\n",
       "                for (var i = 0; i < nbb_cells.length; ++i) {\n",
       "                    if (nbb_cells[i].input_prompt_number == nbb_cell_id) {\n",
       "                        if (nbb_cells[i].get_text() == nbb_unformatted_code) {\n",
       "                             nbb_cells[i].set_text(nbb_formatted_code);\n",
       "                        }\n",
       "                        break;\n",
       "                    }\n",
       "                }\n",
       "            }, 500);\n",
       "            "
      ],
      "text/plain": [
       "<IPython.core.display.Javascript object>"
      ]
     },
     "metadata": {},
     "output_type": "display_data"
    }
   ],
   "source": [
    "filepath = \"../data/clean_data.csv\"\n",
    "filepath_replaced = \"../data/clean_data_replaced.csv\""
   ]
  },
  {
   "cell_type": "markdown",
   "metadata": {},
   "source": [
    "# Functions"
   ]
  },
  {
   "cell_type": "code",
   "execution_count": 4,
   "metadata": {},
   "outputs": [
    {
     "data": {
      "application/javascript": [
       "\n",
       "            setTimeout(function() {\n",
       "                var nbb_cell_id = 4;\n",
       "                var nbb_unformatted_code = \"def par_to_word_tokenize(par):\\n\\n    words = word_tokenize(par)\\n    new_words = [word for word in words if word.isalnum()]\\n\\n    return new_words\";\n",
       "                var nbb_formatted_code = \"def par_to_word_tokenize(par):\\n\\n    words = word_tokenize(par)\\n    new_words = [word for word in words if word.isalnum()]\\n\\n    return new_words\";\n",
       "                var nbb_cells = Jupyter.notebook.get_cells();\n",
       "                for (var i = 0; i < nbb_cells.length; ++i) {\n",
       "                    if (nbb_cells[i].input_prompt_number == nbb_cell_id) {\n",
       "                        if (nbb_cells[i].get_text() == nbb_unformatted_code) {\n",
       "                             nbb_cells[i].set_text(nbb_formatted_code);\n",
       "                        }\n",
       "                        break;\n",
       "                    }\n",
       "                }\n",
       "            }, 500);\n",
       "            "
      ],
      "text/plain": [
       "<IPython.core.display.Javascript object>"
      ]
     },
     "metadata": {},
     "output_type": "display_data"
    }
   ],
   "source": [
    "def par_to_word_tokenize(par):\n",
    "\n",
    "    words = word_tokenize(par)\n",
    "    new_words = [word for word in words if word.isalnum()]\n",
    "\n",
    "    return new_words"
   ]
  },
  {
   "cell_type": "code",
   "execution_count": 5,
   "metadata": {},
   "outputs": [
    {
     "data": {
      "application/javascript": [
       "\n",
       "            setTimeout(function() {\n",
       "                var nbb_cell_id = 5;\n",
       "                var nbb_unformatted_code = \"def tokenize(text):\\n\\n    tokens = map(lambda x: x.strip(string.punctuation), text.split())\\n    tokens = list(filter(None, tokens))\\n\\n    return tokens\";\n",
       "                var nbb_formatted_code = \"def tokenize(text):\\n\\n    tokens = map(lambda x: x.strip(string.punctuation), text.split())\\n    tokens = list(filter(None, tokens))\\n\\n    return tokens\";\n",
       "                var nbb_cells = Jupyter.notebook.get_cells();\n",
       "                for (var i = 0; i < nbb_cells.length; ++i) {\n",
       "                    if (nbb_cells[i].input_prompt_number == nbb_cell_id) {\n",
       "                        if (nbb_cells[i].get_text() == nbb_unformatted_code) {\n",
       "                             nbb_cells[i].set_text(nbb_formatted_code);\n",
       "                        }\n",
       "                        break;\n",
       "                    }\n",
       "                }\n",
       "            }, 500);\n",
       "            "
      ],
      "text/plain": [
       "<IPython.core.display.Javascript object>"
      ]
     },
     "metadata": {},
     "output_type": "display_data"
    }
   ],
   "source": [
    "def tokenize(text):\n",
    "\n",
    "    tokens = map(lambda x: x.strip(string.punctuation), text.split())\n",
    "    tokens = list(filter(None, tokens))\n",
    "\n",
    "    return tokens"
   ]
  },
  {
   "cell_type": "markdown",
   "metadata": {},
   "source": [
    "# Import Data"
   ]
  },
  {
   "cell_type": "code",
   "execution_count": 12,
   "metadata": {},
   "outputs": [
    {
     "data": {
      "application/javascript": [
       "\n",
       "            setTimeout(function() {\n",
       "                var nbb_cell_id = 12;\n",
       "                var nbb_unformatted_code = \"df = pd.read_csv(filepath)\\ndf_replaced = pd.read_csv(filepath_replaced)\";\n",
       "                var nbb_formatted_code = \"df = pd.read_csv(filepath)\\ndf_replaced = pd.read_csv(filepath_replaced)\";\n",
       "                var nbb_cells = Jupyter.notebook.get_cells();\n",
       "                for (var i = 0; i < nbb_cells.length; ++i) {\n",
       "                    if (nbb_cells[i].input_prompt_number == nbb_cell_id) {\n",
       "                        if (nbb_cells[i].get_text() == nbb_unformatted_code) {\n",
       "                             nbb_cells[i].set_text(nbb_formatted_code);\n",
       "                        }\n",
       "                        break;\n",
       "                    }\n",
       "                }\n",
       "            }, 500);\n",
       "            "
      ],
      "text/plain": [
       "<IPython.core.display.Javascript object>"
      ]
     },
     "metadata": {},
     "output_type": "display_data"
    }
   ],
   "source": [
    "df = pd.read_csv(filepath)\n",
    "df_replaced = pd.read_csv(filepath_replaced)"
   ]
  },
  {
   "cell_type": "code",
   "execution_count": 7,
   "metadata": {},
   "outputs": [
    {
     "data": {
      "text/plain": [
       "(121652, 2)"
      ]
     },
     "execution_count": 7,
     "metadata": {},
     "output_type": "execute_result"
    },
    {
     "data": {
      "application/javascript": [
       "\n",
       "            setTimeout(function() {\n",
       "                var nbb_cell_id = 7;\n",
       "                var nbb_unformatted_code = \"df.shape\";\n",
       "                var nbb_formatted_code = \"df.shape\";\n",
       "                var nbb_cells = Jupyter.notebook.get_cells();\n",
       "                for (var i = 0; i < nbb_cells.length; ++i) {\n",
       "                    if (nbb_cells[i].input_prompt_number == nbb_cell_id) {\n",
       "                        if (nbb_cells[i].get_text() == nbb_unformatted_code) {\n",
       "                             nbb_cells[i].set_text(nbb_formatted_code);\n",
       "                        }\n",
       "                        break;\n",
       "                    }\n",
       "                }\n",
       "            }, 500);\n",
       "            "
      ],
      "text/plain": [
       "<IPython.core.display.Javascript object>"
      ]
     },
     "metadata": {},
     "output_type": "display_data"
    }
   ],
   "source": [
    "df.shape"
   ]
  },
  {
   "cell_type": "code",
   "execution_count": 8,
   "metadata": {},
   "outputs": [
    {
     "data": {
      "text/html": [
       "<div>\n",
       "<style scoped>\n",
       "    .dataframe tbody tr th:only-of-type {\n",
       "        vertical-align: middle;\n",
       "    }\n",
       "\n",
       "    .dataframe tbody tr th {\n",
       "        vertical-align: top;\n",
       "    }\n",
       "\n",
       "    .dataframe thead th {\n",
       "        text-align: right;\n",
       "    }\n",
       "</style>\n",
       "<table border=\"1\" class=\"dataframe\">\n",
       "  <thead>\n",
       "    <tr style=\"text-align: right;\">\n",
       "      <th></th>\n",
       "      <th>text</th>\n",
       "      <th>label</th>\n",
       "    </tr>\n",
       "  </thead>\n",
       "  <tbody>\n",
       "    <tr>\n",
       "      <th>0</th>\n",
       "      <td>My father’s family name being Pirrip, and my C...</td>\n",
       "      <td>Dickens, Charles</td>\n",
       "    </tr>\n",
       "    <tr>\n",
       "      <th>1</th>\n",
       "      <td>I give Pirrip as my father’s family name, on t...</td>\n",
       "      <td>Dickens, Charles</td>\n",
       "    </tr>\n",
       "    <tr>\n",
       "      <th>2</th>\n",
       "      <td>Ours was the marsh country, down by the river,...</td>\n",
       "      <td>Dickens, Charles</td>\n",
       "    </tr>\n",
       "    <tr>\n",
       "      <th>3</th>\n",
       "      <td>“Hold your noise!” cried a terrible voice, as ...</td>\n",
       "      <td>Dickens, Charles</td>\n",
       "    </tr>\n",
       "    <tr>\n",
       "      <th>4</th>\n",
       "      <td>A fearful man, all in coarse grey, with a grea...</td>\n",
       "      <td>Dickens, Charles</td>\n",
       "    </tr>\n",
       "  </tbody>\n",
       "</table>\n",
       "</div>"
      ],
      "text/plain": [
       "                                                text             label\n",
       "0  My father’s family name being Pirrip, and my C...  Dickens, Charles\n",
       "1  I give Pirrip as my father’s family name, on t...  Dickens, Charles\n",
       "2  Ours was the marsh country, down by the river,...  Dickens, Charles\n",
       "3  “Hold your noise!” cried a terrible voice, as ...  Dickens, Charles\n",
       "4  A fearful man, all in coarse grey, with a grea...  Dickens, Charles"
      ]
     },
     "execution_count": 8,
     "metadata": {},
     "output_type": "execute_result"
    },
    {
     "data": {
      "application/javascript": [
       "\n",
       "            setTimeout(function() {\n",
       "                var nbb_cell_id = 8;\n",
       "                var nbb_unformatted_code = \"df.head(5)\";\n",
       "                var nbb_formatted_code = \"df.head(5)\";\n",
       "                var nbb_cells = Jupyter.notebook.get_cells();\n",
       "                for (var i = 0; i < nbb_cells.length; ++i) {\n",
       "                    if (nbb_cells[i].input_prompt_number == nbb_cell_id) {\n",
       "                        if (nbb_cells[i].get_text() == nbb_unformatted_code) {\n",
       "                             nbb_cells[i].set_text(nbb_formatted_code);\n",
       "                        }\n",
       "                        break;\n",
       "                    }\n",
       "                }\n",
       "            }, 500);\n",
       "            "
      ],
      "text/plain": [
       "<IPython.core.display.Javascript object>"
      ]
     },
     "metadata": {},
     "output_type": "display_data"
    }
   ],
   "source": [
    "df.head(5)"
   ]
  },
  {
   "cell_type": "code",
   "execution_count": 13,
   "metadata": {},
   "outputs": [
    {
     "data": {
      "text/html": [
       "<div>\n",
       "<style scoped>\n",
       "    .dataframe tbody tr th:only-of-type {\n",
       "        vertical-align: middle;\n",
       "    }\n",
       "\n",
       "    .dataframe tbody tr th {\n",
       "        vertical-align: top;\n",
       "    }\n",
       "\n",
       "    .dataframe thead th {\n",
       "        text-align: right;\n",
       "    }\n",
       "</style>\n",
       "<table border=\"1\" class=\"dataframe\">\n",
       "  <thead>\n",
       "    <tr style=\"text-align: right;\">\n",
       "      <th></th>\n",
       "      <th>text</th>\n",
       "      <th>label</th>\n",
       "    </tr>\n",
       "  </thead>\n",
       "  <tbody>\n",
       "    <tr>\n",
       "      <th>0</th>\n",
       "      <td>My father’s family name being NNP and my Chris...</td>\n",
       "      <td>Dickens, Charles</td>\n",
       "    </tr>\n",
       "    <tr>\n",
       "      <th>1</th>\n",
       "      <td>I give NNP as my father’s family name on the a...</td>\n",
       "      <td>Dickens, Charles</td>\n",
       "    </tr>\n",
       "    <tr>\n",
       "      <th>2</th>\n",
       "      <td>NNP was the marsh country down by the river wi...</td>\n",
       "      <td>Dickens, Charles</td>\n",
       "    </tr>\n",
       "    <tr>\n",
       "      <th>3</th>\n",
       "      <td>“Hold your noise!” cried a terrible voice as a...</td>\n",
       "      <td>Dickens, Charles</td>\n",
       "    </tr>\n",
       "    <tr>\n",
       "      <th>4</th>\n",
       "      <td>A fearful man all in coarse grey with a great ...</td>\n",
       "      <td>Dickens, Charles</td>\n",
       "    </tr>\n",
       "  </tbody>\n",
       "</table>\n",
       "</div>"
      ],
      "text/plain": [
       "                                                text             label\n",
       "0  My father’s family name being NNP and my Chris...  Dickens, Charles\n",
       "1  I give NNP as my father’s family name on the a...  Dickens, Charles\n",
       "2  NNP was the marsh country down by the river wi...  Dickens, Charles\n",
       "3  “Hold your noise!” cried a terrible voice as a...  Dickens, Charles\n",
       "4  A fearful man all in coarse grey with a great ...  Dickens, Charles"
      ]
     },
     "execution_count": 13,
     "metadata": {},
     "output_type": "execute_result"
    },
    {
     "data": {
      "application/javascript": [
       "\n",
       "            setTimeout(function() {\n",
       "                var nbb_cell_id = 13;\n",
       "                var nbb_unformatted_code = \"df_replaced.head(5)\";\n",
       "                var nbb_formatted_code = \"df_replaced.head(5)\";\n",
       "                var nbb_cells = Jupyter.notebook.get_cells();\n",
       "                for (var i = 0; i < nbb_cells.length; ++i) {\n",
       "                    if (nbb_cells[i].input_prompt_number == nbb_cell_id) {\n",
       "                        if (nbb_cells[i].get_text() == nbb_unformatted_code) {\n",
       "                             nbb_cells[i].set_text(nbb_formatted_code);\n",
       "                        }\n",
       "                        break;\n",
       "                    }\n",
       "                }\n",
       "            }, 500);\n",
       "            "
      ],
      "text/plain": [
       "<IPython.core.display.Javascript object>"
      ]
     },
     "metadata": {},
     "output_type": "display_data"
    }
   ],
   "source": [
    "df_replaced.head(5)"
   ]
  },
  {
   "cell_type": "markdown",
   "metadata": {},
   "source": [
    "# Descriptive Stats"
   ]
  },
  {
   "cell_type": "markdown",
   "metadata": {},
   "source": [
    "How many total paragraphs per author?"
   ]
  },
  {
   "cell_type": "code",
   "execution_count": 10,
   "metadata": {},
   "outputs": [
    {
     "data": {
      "text/plain": [
       "text    121652\n",
       "dtype: int64"
      ]
     },
     "execution_count": 10,
     "metadata": {},
     "output_type": "execute_result"
    },
    {
     "data": {
      "application/javascript": [
       "\n",
       "            setTimeout(function() {\n",
       "                var nbb_cell_id = 10;\n",
       "                var nbb_unformatted_code = \"df.groupby(\\\"label\\\").count().sum()\";\n",
       "                var nbb_formatted_code = \"df.groupby(\\\"label\\\").count().sum()\";\n",
       "                var nbb_cells = Jupyter.notebook.get_cells();\n",
       "                for (var i = 0; i < nbb_cells.length; ++i) {\n",
       "                    if (nbb_cells[i].input_prompt_number == nbb_cell_id) {\n",
       "                        if (nbb_cells[i].get_text() == nbb_unformatted_code) {\n",
       "                             nbb_cells[i].set_text(nbb_formatted_code);\n",
       "                        }\n",
       "                        break;\n",
       "                    }\n",
       "                }\n",
       "            }, 500);\n",
       "            "
      ],
      "text/plain": [
       "<IPython.core.display.Javascript object>"
      ]
     },
     "metadata": {},
     "output_type": "display_data"
    }
   ],
   "source": [
    "df.groupby(\"label\").count().sum()"
   ]
  },
  {
   "cell_type": "markdown",
   "metadata": {},
   "source": [
    "How many words per paragraph? How many sentences per paragraph?"
   ]
  },
  {
   "cell_type": "code",
   "execution_count": 13,
   "metadata": {},
   "outputs": [
    {
     "data": {
      "application/javascript": [
       "\n",
       "            setTimeout(function() {\n",
       "                var nbb_cell_id = 13;\n",
       "                var nbb_unformatted_code = \"# Tokenize paragraphs\\ndf.loc[:, \\\"text_tokenized_word\\\"] = list(map(lambda x: tokenize(x), df[\\\"text\\\"]))\\ndf.loc[:, \\\"text_tokenized_sent\\\"] = list(map(lambda x: sent_tokenize(x), df[\\\"text\\\"]))\";\n",
       "                var nbb_formatted_code = \"# Tokenize paragraphs\\ndf.loc[:, \\\"text_tokenized_word\\\"] = list(map(lambda x: tokenize(x), df[\\\"text\\\"]))\\ndf.loc[:, \\\"text_tokenized_sent\\\"] = list(map(lambda x: sent_tokenize(x), df[\\\"text\\\"]))\";\n",
       "                var nbb_cells = Jupyter.notebook.get_cells();\n",
       "                for (var i = 0; i < nbb_cells.length; ++i) {\n",
       "                    if (nbb_cells[i].input_prompt_number == nbb_cell_id) {\n",
       "                        if (nbb_cells[i].get_text() == nbb_unformatted_code) {\n",
       "                             nbb_cells[i].set_text(nbb_formatted_code);\n",
       "                        }\n",
       "                        break;\n",
       "                    }\n",
       "                }\n",
       "            }, 500);\n",
       "            "
      ],
      "text/plain": [
       "<IPython.core.display.Javascript object>"
      ]
     },
     "metadata": {},
     "output_type": "display_data"
    }
   ],
   "source": [
    "# Tokenize paragraphs\n",
    "df.loc[:, \"text_tokenized_word\"] = list(map(lambda x: tokenize(x), df[\"text\"]))\n",
    "df.loc[:, \"text_tokenized_sent\"] = list(map(lambda x: sent_tokenize(x), df[\"text\"]))"
   ]
  },
  {
   "cell_type": "code",
   "execution_count": 14,
   "metadata": {},
   "outputs": [
    {
     "data": {
      "text/html": [
       "<div>\n",
       "<style scoped>\n",
       "    .dataframe tbody tr th:only-of-type {\n",
       "        vertical-align: middle;\n",
       "    }\n",
       "\n",
       "    .dataframe tbody tr th {\n",
       "        vertical-align: top;\n",
       "    }\n",
       "\n",
       "    .dataframe thead th {\n",
       "        text-align: right;\n",
       "    }\n",
       "</style>\n",
       "<table border=\"1\" class=\"dataframe\">\n",
       "  <thead>\n",
       "    <tr style=\"text-align: right;\">\n",
       "      <th></th>\n",
       "      <th>text</th>\n",
       "      <th>label</th>\n",
       "      <th>text_tokenized_word</th>\n",
       "      <th>text_tokenized_sent</th>\n",
       "    </tr>\n",
       "  </thead>\n",
       "  <tbody>\n",
       "    <tr>\n",
       "      <th>0</th>\n",
       "      <td>My father’s family name being Pirrip, and my C...</td>\n",
       "      <td>Dickens, Charles</td>\n",
       "      <td>[My, father’s, family, name, being, Pirrip, an...</td>\n",
       "      <td>[My father’s family name being Pirrip, and my ...</td>\n",
       "    </tr>\n",
       "    <tr>\n",
       "      <th>1</th>\n",
       "      <td>I give Pirrip as my father’s family name, on t...</td>\n",
       "      <td>Dickens, Charles</td>\n",
       "      <td>[I, give, Pirrip, as, my, father’s, family, na...</td>\n",
       "      <td>[I give Pirrip as my father’s family name, on ...</td>\n",
       "    </tr>\n",
       "    <tr>\n",
       "      <th>2</th>\n",
       "      <td>Ours was the marsh country, down by the river,...</td>\n",
       "      <td>Dickens, Charles</td>\n",
       "      <td>[Ours, was, the, marsh, country, down, by, the...</td>\n",
       "      <td>[Ours was the marsh country, down by the river...</td>\n",
       "    </tr>\n",
       "    <tr>\n",
       "      <th>3</th>\n",
       "      <td>“Hold your noise!” cried a terrible voice, as ...</td>\n",
       "      <td>Dickens, Charles</td>\n",
       "      <td>[“Hold, your, noise!”, cried, a, terrible, voi...</td>\n",
       "      <td>[“Hold your noise!” cried a terrible voice, as...</td>\n",
       "    </tr>\n",
       "    <tr>\n",
       "      <th>4</th>\n",
       "      <td>A fearful man, all in coarse grey, with a grea...</td>\n",
       "      <td>Dickens, Charles</td>\n",
       "      <td>[A, fearful, man, all, in, coarse, grey, with,...</td>\n",
       "      <td>[A fearful man, all in coarse grey, with a gre...</td>\n",
       "    </tr>\n",
       "  </tbody>\n",
       "</table>\n",
       "</div>"
      ],
      "text/plain": [
       "                                                text             label  \\\n",
       "0  My father’s family name being Pirrip, and my C...  Dickens, Charles   \n",
       "1  I give Pirrip as my father’s family name, on t...  Dickens, Charles   \n",
       "2  Ours was the marsh country, down by the river,...  Dickens, Charles   \n",
       "3  “Hold your noise!” cried a terrible voice, as ...  Dickens, Charles   \n",
       "4  A fearful man, all in coarse grey, with a grea...  Dickens, Charles   \n",
       "\n",
       "                                 text_tokenized_word  \\\n",
       "0  [My, father’s, family, name, being, Pirrip, an...   \n",
       "1  [I, give, Pirrip, as, my, father’s, family, na...   \n",
       "2  [Ours, was, the, marsh, country, down, by, the...   \n",
       "3  [“Hold, your, noise!”, cried, a, terrible, voi...   \n",
       "4  [A, fearful, man, all, in, coarse, grey, with,...   \n",
       "\n",
       "                                 text_tokenized_sent  \n",
       "0  [My father’s family name being Pirrip, and my ...  \n",
       "1  [I give Pirrip as my father’s family name, on ...  \n",
       "2  [Ours was the marsh country, down by the river...  \n",
       "3  [“Hold your noise!” cried a terrible voice, as...  \n",
       "4  [A fearful man, all in coarse grey, with a gre...  "
      ]
     },
     "execution_count": 14,
     "metadata": {},
     "output_type": "execute_result"
    },
    {
     "data": {
      "application/javascript": [
       "\n",
       "            setTimeout(function() {\n",
       "                var nbb_cell_id = 14;\n",
       "                var nbb_unformatted_code = \"df.head(5)\";\n",
       "                var nbb_formatted_code = \"df.head(5)\";\n",
       "                var nbb_cells = Jupyter.notebook.get_cells();\n",
       "                for (var i = 0; i < nbb_cells.length; ++i) {\n",
       "                    if (nbb_cells[i].input_prompt_number == nbb_cell_id) {\n",
       "                        if (nbb_cells[i].get_text() == nbb_unformatted_code) {\n",
       "                             nbb_cells[i].set_text(nbb_formatted_code);\n",
       "                        }\n",
       "                        break;\n",
       "                    }\n",
       "                }\n",
       "            }, 500);\n",
       "            "
      ],
      "text/plain": [
       "<IPython.core.display.Javascript object>"
      ]
     },
     "metadata": {},
     "output_type": "display_data"
    }
   ],
   "source": [
    "df.head(5)"
   ]
  },
  {
   "cell_type": "code",
   "execution_count": 15,
   "metadata": {},
   "outputs": [
    {
     "data": {
      "application/javascript": [
       "\n",
       "            setTimeout(function() {\n",
       "                var nbb_cell_id = 15;\n",
       "                var nbb_unformatted_code = \"# Get count of word and sentence tokens\\ndf.loc[:, \\\"text_tokenized_word_count\\\"] = [\\n    len(tokenized) for tokenized in df[\\\"text_tokenized_word\\\"]\\n]\\n\\ndf.loc[:, \\\"text_tokenized_sent_count\\\"] = [len(tokenized) for tokenized in df[\\\"text_tokenized_sent\\\"]]\";\n",
       "                var nbb_formatted_code = \"# Get count of word and sentence tokens\\ndf.loc[:, \\\"text_tokenized_word_count\\\"] = [\\n    len(tokenized) for tokenized in df[\\\"text_tokenized_word\\\"]\\n]\\n\\ndf.loc[:, \\\"text_tokenized_sent_count\\\"] = [\\n    len(tokenized) for tokenized in df[\\\"text_tokenized_sent\\\"]\\n]\";\n",
       "                var nbb_cells = Jupyter.notebook.get_cells();\n",
       "                for (var i = 0; i < nbb_cells.length; ++i) {\n",
       "                    if (nbb_cells[i].input_prompt_number == nbb_cell_id) {\n",
       "                        if (nbb_cells[i].get_text() == nbb_unformatted_code) {\n",
       "                             nbb_cells[i].set_text(nbb_formatted_code);\n",
       "                        }\n",
       "                        break;\n",
       "                    }\n",
       "                }\n",
       "            }, 500);\n",
       "            "
      ],
      "text/plain": [
       "<IPython.core.display.Javascript object>"
      ]
     },
     "metadata": {},
     "output_type": "display_data"
    }
   ],
   "source": [
    "# Get count of word and sentence tokens\n",
    "df.loc[:, \"text_tokenized_word_count\"] = [\n",
    "    len(tokenized) for tokenized in df[\"text_tokenized_word\"]\n",
    "]\n",
    "\n",
    "df.loc[:, \"text_tokenized_sent_count\"] = [\n",
    "    len(tokenized) for tokenized in df[\"text_tokenized_sent\"]\n",
    "]"
   ]
  },
  {
   "cell_type": "code",
   "execution_count": 16,
   "metadata": {},
   "outputs": [
    {
     "data": {
      "text/plain": [
       "label\n",
       "Austen, Jane               70.874711\n",
       "Christie, Agatha           25.964870\n",
       "Dickens, Charles           47.115749\n",
       "Dostoyevsky, Fyodor        52.027236\n",
       "Hugo, Victor               40.911942\n",
       "London, Jack               55.313772\n",
       "Stowe, Harriett Beecher    54.545490\n",
       "Twain, Mark                60.624527\n",
       "Name: text_tokenized_word_count, dtype: float64"
      ]
     },
     "execution_count": 16,
     "metadata": {},
     "output_type": "execute_result"
    },
    {
     "data": {
      "application/javascript": [
       "\n",
       "            setTimeout(function() {\n",
       "                var nbb_cell_id = 16;\n",
       "                var nbb_unformatted_code = \"df.groupby(\\\"label\\\")[\\\"text_tokenized_word_count\\\"].mean()\";\n",
       "                var nbb_formatted_code = \"df.groupby(\\\"label\\\")[\\\"text_tokenized_word_count\\\"].mean()\";\n",
       "                var nbb_cells = Jupyter.notebook.get_cells();\n",
       "                for (var i = 0; i < nbb_cells.length; ++i) {\n",
       "                    if (nbb_cells[i].input_prompt_number == nbb_cell_id) {\n",
       "                        if (nbb_cells[i].get_text() == nbb_unformatted_code) {\n",
       "                             nbb_cells[i].set_text(nbb_formatted_code);\n",
       "                        }\n",
       "                        break;\n",
       "                    }\n",
       "                }\n",
       "            }, 500);\n",
       "            "
      ],
      "text/plain": [
       "<IPython.core.display.Javascript object>"
      ]
     },
     "metadata": {},
     "output_type": "display_data"
    }
   ],
   "source": [
    "df.groupby(\"label\")[\"text_tokenized_word_count\"].mean()"
   ]
  },
  {
   "cell_type": "code",
   "execution_count": 17,
   "metadata": {},
   "outputs": [
    {
     "data": {
      "text/plain": [
       "label\n",
       "Austen, Jane               3.198474\n",
       "Christie, Agatha           2.438481\n",
       "Dickens, Charles           2.575269\n",
       "Dostoyevsky, Fyodor        3.414370\n",
       "Hugo, Victor               2.567528\n",
       "London, Jack               3.770160\n",
       "Stowe, Harriett Beecher    2.688370\n",
       "Twain, Mark                3.234659\n",
       "Name: text_tokenized_sent_count, dtype: float64"
      ]
     },
     "execution_count": 17,
     "metadata": {},
     "output_type": "execute_result"
    },
    {
     "data": {
      "application/javascript": [
       "\n",
       "            setTimeout(function() {\n",
       "                var nbb_cell_id = 17;\n",
       "                var nbb_unformatted_code = \"df.groupby(\\\"label\\\")[\\\"text_tokenized_sent_count\\\"].mean()\";\n",
       "                var nbb_formatted_code = \"df.groupby(\\\"label\\\")[\\\"text_tokenized_sent_count\\\"].mean()\";\n",
       "                var nbb_cells = Jupyter.notebook.get_cells();\n",
       "                for (var i = 0; i < nbb_cells.length; ++i) {\n",
       "                    if (nbb_cells[i].input_prompt_number == nbb_cell_id) {\n",
       "                        if (nbb_cells[i].get_text() == nbb_unformatted_code) {\n",
       "                             nbb_cells[i].set_text(nbb_formatted_code);\n",
       "                        }\n",
       "                        break;\n",
       "                    }\n",
       "                }\n",
       "            }, 500);\n",
       "            "
      ],
      "text/plain": [
       "<IPython.core.display.Javascript object>"
      ]
     },
     "metadata": {},
     "output_type": "display_data"
    }
   ],
   "source": [
    "df.groupby(\"label\")[\"text_tokenized_sent_count\"].mean()"
   ]
  },
  {
   "cell_type": "markdown",
   "metadata": {},
   "source": [
    "# Visualizations"
   ]
  },
  {
   "cell_type": "code",
   "execution_count": 26,
   "metadata": {},
   "outputs": [
    {
     "name": "stdout",
     "output_type": "stream",
     "text": [
      "Labels: {'Dostoyevsky, Fyodor', 'Christie, Agatha', 'Stowe, Harriett Beecher', 'Hugo, Victor', 'Austen, Jane', 'Dickens, Charles', 'Twain, Mark', 'London, Jack'}\n",
      "Number of labels: 8\n",
      "Number of paragraphs: 121652\n"
     ]
    },
    {
     "data": {
      "application/javascript": [
       "\n",
       "            setTimeout(function() {\n",
       "                var nbb_cell_id = 26;\n",
       "                var nbb_unformatted_code = \"# Number of labels\\nlabels = list(df[\\\"label\\\"])\\nlabels_unique = set(labels)\\n\\nprint(\\\"Labels:\\\", labels_unique)\\nprint(\\\"Number of labels:\\\", len(labels_unique))\\nprint(\\\"Number of paragraphs:\\\", len(labels))\";\n",
       "                var nbb_formatted_code = \"# Number of labels\\nlabels = list(df[\\\"label\\\"])\\nlabels_unique = set(labels)\\n\\nprint(\\\"Labels:\\\", labels_unique)\\nprint(\\\"Number of labels:\\\", len(labels_unique))\\nprint(\\\"Number of paragraphs:\\\", len(labels))\";\n",
       "                var nbb_cells = Jupyter.notebook.get_cells();\n",
       "                for (var i = 0; i < nbb_cells.length; ++i) {\n",
       "                    if (nbb_cells[i].input_prompt_number == nbb_cell_id) {\n",
       "                        if (nbb_cells[i].get_text() == nbb_unformatted_code) {\n",
       "                             nbb_cells[i].set_text(nbb_formatted_code);\n",
       "                        }\n",
       "                        break;\n",
       "                    }\n",
       "                }\n",
       "            }, 500);\n",
       "            "
      ],
      "text/plain": [
       "<IPython.core.display.Javascript object>"
      ]
     },
     "metadata": {},
     "output_type": "display_data"
    }
   ],
   "source": [
    "# Number of labels\n",
    "labels = list(df[\"label\"])\n",
    "labels_unique = set(labels)\n",
    "\n",
    "print(\"Labels:\", labels_unique)\n",
    "print(\"Number of labels:\", len(labels_unique))\n",
    "print(\"Number of paragraphs:\", len(labels))"
   ]
  },
  {
   "cell_type": "code",
   "execution_count": 27,
   "metadata": {},
   "outputs": [
    {
     "data": {
      "image/png": "[encoded data removed]",
      "text/plain": [
       "<Figure size 864x576 with 1 Axes>"
      ]
     },
     "metadata": {
      "needs_background": "light"
     },
     "output_type": "display_data"
    },
    {
     "data": {
      "application/javascript": [
       "\n",
       "            setTimeout(function() {\n",
       "                var nbb_cell_id = 27;\n",
       "                var nbb_unformatted_code = \"# Distribution of labels\\nlabels_proportion = [labels.count(s) / len(labels) for s in labels_unique]\\n\\n# Plot\\nfig, ax = plt.subplots(figsize=(12, 8))\\n\\nax.bar(list(labels_unique), labels_proportion)\\nax.set_title(\\\"Proportion of Authors (Labels)\\\")\\nax.set_xlabel(\\\"Author (Label)\\\")\\nax.set_ylabel(\\\"Proportion of Paragraphs (Documents)\\\")\\n\\nplt.xticks(rotation=30)\\n\\nplt.show()\";\n",
       "                var nbb_formatted_code = \"# Distribution of labels\\nlabels_proportion = [labels.count(s) / len(labels) for s in labels_unique]\\n\\n# Plot\\nfig, ax = plt.subplots(figsize=(12, 8))\\n\\nax.bar(list(labels_unique), labels_proportion)\\nax.set_title(\\\"Proportion of Authors (Labels)\\\")\\nax.set_xlabel(\\\"Author (Label)\\\")\\nax.set_ylabel(\\\"Proportion of Paragraphs (Documents)\\\")\\n\\nplt.xticks(rotation=30)\\n\\nplt.show()\";\n",
       "                var nbb_cells = Jupyter.notebook.get_cells();\n",
       "                for (var i = 0; i < nbb_cells.length; ++i) {\n",
       "                    if (nbb_cells[i].input_prompt_number == nbb_cell_id) {\n",
       "                        if (nbb_cells[i].get_text() == nbb_unformatted_code) {\n",
       "                             nbb_cells[i].set_text(nbb_formatted_code);\n",
       "                        }\n",
       "                        break;\n",
       "                    }\n",
       "                }\n",
       "            }, 500);\n",
       "            "
      ],
      "text/plain": [
       "<IPython.core.display.Javascript object>"
      ]
     },
     "metadata": {},
     "output_type": "display_data"
    }
   ],
   "source": [
    "# Distribution of labels\n",
    "labels_proportion = [labels.count(s) / len(labels) for s in labels_unique]\n",
    "\n",
    "# Plot\n",
    "fig, ax = plt.subplots(figsize=(12, 8))\n",
    "\n",
    "ax.bar(list(labels_unique), labels_proportion)\n",
    "ax.set_title(\"Proportion of Authors (Labels)\")\n",
    "ax.set_xlabel(\"Author (Label)\")\n",
    "ax.set_ylabel(\"Proportion of Paragraphs (Documents)\")\n",
    "\n",
    "plt.xticks(rotation=30)\n",
    "\n",
    "plt.show()"
   ]
  },
  {
   "cell_type": "code",
   "execution_count": 28,
   "metadata": {},
   "outputs": [
    {
     "data": {
      "image/png": "[encoded data removed]",
      "text/plain": [
       "<Figure size 864x576 with 1 Axes>"
      ]
     },
     "metadata": {
      "needs_background": "light"
     },
     "output_type": "display_data"
    },
    {
     "data": {
      "application/javascript": [
       "\n",
       "            setTimeout(function() {\n",
       "                var nbb_cell_id = 28;\n",
       "                var nbb_unformatted_code = \"df_grouped = df.groupby(\\\"label\\\")[\\\"text_tokenized_word_count\\\"].mean()\\n\\n# Plot\\nfig, ax = plt.subplots(figsize=(12, 8))\\n\\nax.bar(df_grouped.index, df_grouped.values)\\nax.set_title(\\\"Avg. Number of Words per Paragraph by Author\\\")\\nax.set_xlabel(\\\"Author (Label)\\\")\\nax.set_ylabel(\\\"Avg. Number of Words per Paragraph\\\")\\n\\nplt.xticks(rotation=30)\\n\\nplt.show()\";\n",
       "                var nbb_formatted_code = \"df_grouped = df.groupby(\\\"label\\\")[\\\"text_tokenized_word_count\\\"].mean()\\n\\n# Plot\\nfig, ax = plt.subplots(figsize=(12, 8))\\n\\nax.bar(df_grouped.index, df_grouped.values)\\nax.set_title(\\\"Avg. Number of Words per Paragraph by Author\\\")\\nax.set_xlabel(\\\"Author (Label)\\\")\\nax.set_ylabel(\\\"Avg. Number of Words per Paragraph\\\")\\n\\nplt.xticks(rotation=30)\\n\\nplt.show()\";\n",
       "                var nbb_cells = Jupyter.notebook.get_cells();\n",
       "                for (var i = 0; i < nbb_cells.length; ++i) {\n",
       "                    if (nbb_cells[i].input_prompt_number == nbb_cell_id) {\n",
       "                        if (nbb_cells[i].get_text() == nbb_unformatted_code) {\n",
       "                             nbb_cells[i].set_text(nbb_formatted_code);\n",
       "                        }\n",
       "                        break;\n",
       "                    }\n",
       "                }\n",
       "            }, 500);\n",
       "            "
      ],
      "text/plain": [
       "<IPython.core.display.Javascript object>"
      ]
     },
     "metadata": {},
     "output_type": "display_data"
    }
   ],
   "source": [
    "df_grouped = df.groupby(\"label\")[\"text_tokenized_word_count\"].mean()\n",
    "\n",
    "# Plot\n",
    "fig, ax = plt.subplots(figsize=(12, 8))\n",
    "\n",
    "ax.bar(df_grouped.index, df_grouped.values)\n",
    "ax.set_title(\"Avg. Number of Words per Paragraph by Author\")\n",
    "ax.set_xlabel(\"Author (Label)\")\n",
    "ax.set_ylabel(\"Avg. Number of Words per Paragraph\")\n",
    "\n",
    "plt.xticks(rotation=30)\n",
    "\n",
    "plt.show()"
   ]
  },
  {
   "cell_type": "code",
   "execution_count": 29,
   "metadata": {},
   "outputs": [
    {
     "data": {
      "image/png": "[encoded data removed]",
      "text/plain": [
       "<Figure size 864x576 with 1 Axes>"
      ]
     },
     "metadata": {
      "needs_background": "light"
     },
     "output_type": "display_data"
    },
    {
     "data": {
      "application/javascript": [
       "\n",
       "            setTimeout(function() {\n",
       "                var nbb_cell_id = 29;\n",
       "                var nbb_unformatted_code = \"df_grouped = df.groupby(\\\"label\\\")[\\\"text_tokenized_sent_count\\\"].mean()\\n\\n# Plot\\nfig, ax = plt.subplots(figsize=(12, 8))\\n\\nax.bar(df_grouped.index, df_grouped.values)\\nax.set_title(\\\"Avg. Number of Sentences per Paragraph by Author\\\")\\nax.set_xlabel(\\\"Author (Label)\\\")\\nax.set_ylabel(\\\"Avg. Number of Sentences per Paragraph\\\")\\n\\nplt.xticks(rotation=30)\\n\\nplt.show()\";\n",
       "                var nbb_formatted_code = \"df_grouped = df.groupby(\\\"label\\\")[\\\"text_tokenized_sent_count\\\"].mean()\\n\\n# Plot\\nfig, ax = plt.subplots(figsize=(12, 8))\\n\\nax.bar(df_grouped.index, df_grouped.values)\\nax.set_title(\\\"Avg. Number of Sentences per Paragraph by Author\\\")\\nax.set_xlabel(\\\"Author (Label)\\\")\\nax.set_ylabel(\\\"Avg. Number of Sentences per Paragraph\\\")\\n\\nplt.xticks(rotation=30)\\n\\nplt.show()\";\n",
       "                var nbb_cells = Jupyter.notebook.get_cells();\n",
       "                for (var i = 0; i < nbb_cells.length; ++i) {\n",
       "                    if (nbb_cells[i].input_prompt_number == nbb_cell_id) {\n",
       "                        if (nbb_cells[i].get_text() == nbb_unformatted_code) {\n",
       "                             nbb_cells[i].set_text(nbb_formatted_code);\n",
       "                        }\n",
       "                        break;\n",
       "                    }\n",
       "                }\n",
       "            }, 500);\n",
       "            "
      ],
      "text/plain": [
       "<IPython.core.display.Javascript object>"
      ]
     },
     "metadata": {},
     "output_type": "display_data"
    }
   ],
   "source": [
    "df_grouped = df.groupby(\"label\")[\"text_tokenized_sent_count\"].mean()\n",
    "\n",
    "# Plot\n",
    "fig, ax = plt.subplots(figsize=(12, 8))\n",
    "\n",
    "ax.bar(df_grouped.index, df_grouped.values)\n",
    "ax.set_title(\"Avg. Number of Sentences per Paragraph by Author\")\n",
    "ax.set_xlabel(\"Author (Label)\")\n",
    "ax.set_ylabel(\"Avg. Number of Sentences per Paragraph\")\n",
    "\n",
    "plt.xticks(rotation=30)\n",
    "\n",
    "plt.show()"
   ]
  },
  {
   "cell_type": "code",
   "execution_count": 58,
   "metadata": {},
   "outputs": [
    {
     "data": {
      "text/html": [
       "<div>\n",
       "<style scoped>\n",
       "    .dataframe tbody tr th:only-of-type {\n",
       "        vertical-align: middle;\n",
       "    }\n",
       "\n",
       "    .dataframe tbody tr th {\n",
       "        vertical-align: top;\n",
       "    }\n",
       "\n",
       "    .dataframe thead th {\n",
       "        text-align: right;\n",
       "    }\n",
       "</style>\n",
       "<table border=\"1\" class=\"dataframe\">\n",
       "  <thead>\n",
       "    <tr style=\"text-align: right;\">\n",
       "      <th></th>\n",
       "      <th>text</th>\n",
       "      <th>label</th>\n",
       "      <th>text_tokenized_word</th>\n",
       "      <th>text_tokenized_sent</th>\n",
       "      <th>text_tokenized_word_count</th>\n",
       "      <th>text_tokenized_sent_count</th>\n",
       "    </tr>\n",
       "  </thead>\n",
       "  <tbody>\n",
       "    <tr>\n",
       "      <th>0</th>\n",
       "      <td>My father’s family name being Pirrip, and my C...</td>\n",
       "      <td>Dickens, Charles</td>\n",
       "      <td>[My, father, s, family, name, being, Pirrip, a...</td>\n",
       "      <td>[My father’s family name being Pirrip, and my ...</td>\n",
       "      <td>38</td>\n",
       "      <td>2</td>\n",
       "    </tr>\n",
       "    <tr>\n",
       "      <th>1</th>\n",
       "      <td>I give Pirrip as my father’s family name, on t...</td>\n",
       "      <td>Dickens, Charles</td>\n",
       "      <td>[I, give, Pirrip, as, my, father, s, family, n...</td>\n",
       "      <td>[I give Pirrip as my father’s family name, on ...</td>\n",
       "      <td>197</td>\n",
       "      <td>6</td>\n",
       "    </tr>\n",
       "    <tr>\n",
       "      <th>2</th>\n",
       "      <td>Ours was the marsh country, down by the river,...</td>\n",
       "      <td>Dickens, Charles</td>\n",
       "      <td>[Ours, was, the, marsh, country, down, by, the...</td>\n",
       "      <td>[Ours was the marsh country, down by the river...</td>\n",
       "      <td>169</td>\n",
       "      <td>3</td>\n",
       "    </tr>\n",
       "    <tr>\n",
       "      <th>3</th>\n",
       "      <td>“Hold your noise!” cried a terrible voice, as ...</td>\n",
       "      <td>Dickens, Charles</td>\n",
       "      <td>[Hold, your, noise, cried, a, terrible, voice,...</td>\n",
       "      <td>[“Hold your noise!” cried a terrible voice, as...</td>\n",
       "      <td>34</td>\n",
       "      <td>2</td>\n",
       "    </tr>\n",
       "    <tr>\n",
       "      <th>4</th>\n",
       "      <td>A fearful man, all in coarse grey, with a grea...</td>\n",
       "      <td>Dickens, Charles</td>\n",
       "      <td>[A, fearful, man, all, in, coarse, grey, with,...</td>\n",
       "      <td>[A fearful man, all in coarse grey, with a gre...</td>\n",
       "      <td>82</td>\n",
       "      <td>3</td>\n",
       "    </tr>\n",
       "  </tbody>\n",
       "</table>\n",
       "</div>"
      ],
      "text/plain": [
       "                                                text             label  \\\n",
       "0  My father’s family name being Pirrip, and my C...  Dickens, Charles   \n",
       "1  I give Pirrip as my father’s family name, on t...  Dickens, Charles   \n",
       "2  Ours was the marsh country, down by the river,...  Dickens, Charles   \n",
       "3  “Hold your noise!” cried a terrible voice, as ...  Dickens, Charles   \n",
       "4  A fearful man, all in coarse grey, with a grea...  Dickens, Charles   \n",
       "\n",
       "                                 text_tokenized_word  \\\n",
       "0  [My, father, s, family, name, being, Pirrip, a...   \n",
       "1  [I, give, Pirrip, as, my, father, s, family, n...   \n",
       "2  [Ours, was, the, marsh, country, down, by, the...   \n",
       "3  [Hold, your, noise, cried, a, terrible, voice,...   \n",
       "4  [A, fearful, man, all, in, coarse, grey, with,...   \n",
       "\n",
       "                                 text_tokenized_sent  \\\n",
       "0  [My father’s family name being Pirrip, and my ...   \n",
       "1  [I give Pirrip as my father’s family name, on ...   \n",
       "2  [Ours was the marsh country, down by the river...   \n",
       "3  [“Hold your noise!” cried a terrible voice, as...   \n",
       "4  [A fearful man, all in coarse grey, with a gre...   \n",
       "\n",
       "   text_tokenized_word_count  text_tokenized_sent_count  \n",
       "0                         38                          2  \n",
       "1                        197                          6  \n",
       "2                        169                          3  \n",
       "3                         34                          2  \n",
       "4                         82                          3  "
      ]
     },
     "execution_count": 58,
     "metadata": {},
     "output_type": "execute_result"
    },
    {
     "data": {
      "application/javascript": [
       "\n",
       "            setTimeout(function() {\n",
       "                var nbb_cell_id = 58;\n",
       "                var nbb_unformatted_code = \"df.head(5)\";\n",
       "                var nbb_formatted_code = \"df.head(5)\";\n",
       "                var nbb_cells = Jupyter.notebook.get_cells();\n",
       "                for (var i = 0; i < nbb_cells.length; ++i) {\n",
       "                    if (nbb_cells[i].input_prompt_number == nbb_cell_id) {\n",
       "                        if (nbb_cells[i].get_text() == nbb_unformatted_code) {\n",
       "                             nbb_cells[i].set_text(nbb_formatted_code);\n",
       "                        }\n",
       "                        break;\n",
       "                    }\n",
       "                }\n",
       "            }, 500);\n",
       "            "
      ],
      "text/plain": [
       "<IPython.core.display.Javascript object>"
      ]
     },
     "metadata": {},
     "output_type": "display_data"
    }
   ],
   "source": [
    "df.head(5)"
   ]
  },
  {
   "cell_type": "code",
   "execution_count": 30,
   "metadata": {},
   "outputs": [
    {
     "data": {
      "image/png": "[encoded data removed]",
      "text/plain": [
       "<Figure size 864x576 with 1 Axes>"
      ]
     },
     "metadata": {
      "needs_background": "light"
     },
     "output_type": "display_data"
    },
    {
     "data": {
      "application/javascript": [
       "\n",
       "            setTimeout(function() {\n",
       "                var nbb_cell_id = 30;\n",
       "                var nbb_unformatted_code = \"hist_data = df.loc[df[\\\"label\\\"] == \\\"Dickens, Charles\\\", \\\"text_tokenized_word_count\\\"]\\n\\n# Plot\\nfig, ax = plt.subplots(figsize=(12, 8))\\n\\nax.hist(hist_data, bins=100, density=True)\\nax.set_title(\\\"Histogram of Number of Words per Paragraph\\\")\\nax.set_xlabel(\\\"Number of Words\\\")\\nax.set_ylabel(\\\"Proportion (%) of Label\\\")\\n\\nplt.show()\";\n",
       "                var nbb_formatted_code = \"hist_data = df.loc[df[\\\"label\\\"] == \\\"Dickens, Charles\\\", \\\"text_tokenized_word_count\\\"]\\n\\n# Plot\\nfig, ax = plt.subplots(figsize=(12, 8))\\n\\nax.hist(hist_data, bins=100, density=True)\\nax.set_title(\\\"Histogram of Number of Words per Paragraph\\\")\\nax.set_xlabel(\\\"Number of Words\\\")\\nax.set_ylabel(\\\"Proportion (%) of Label\\\")\\n\\nplt.show()\";\n",
       "                var nbb_cells = Jupyter.notebook.get_cells();\n",
       "                for (var i = 0; i < nbb_cells.length; ++i) {\n",
       "                    if (nbb_cells[i].input_prompt_number == nbb_cell_id) {\n",
       "                        if (nbb_cells[i].get_text() == nbb_unformatted_code) {\n",
       "                             nbb_cells[i].set_text(nbb_formatted_code);\n",
       "                        }\n",
       "                        break;\n",
       "                    }\n",
       "                }\n",
       "            }, 500);\n",
       "            "
      ],
      "text/plain": [
       "<IPython.core.display.Javascript object>"
      ]
     },
     "metadata": {},
     "output_type": "display_data"
    }
   ],
   "source": [
    "hist_data = df.loc[df[\"label\"] == \"Dickens, Charles\", \"text_tokenized_word_count\"]\n",
    "\n",
    "# Plot\n",
    "fig, ax = plt.subplots(figsize=(12, 8))\n",
    "\n",
    "ax.hist(hist_data, bins=100, density=True)\n",
    "ax.set_title(\"Histogram of Number of Words per Paragraph\")\n",
    "ax.set_xlabel(\"Number of Words\")\n",
    "ax.set_ylabel(\"Proportion (%) of Label\")\n",
    "\n",
    "plt.show()"
   ]
  }
 ],
 "metadata": {
  "kernelspec": {
   "display_name": "Python 3",
   "language": "python",
   "name": "python3"
  },
  "language_info": {
   "codemirror_mode": {
    "name": "ipython",
    "version": 3
   },
   "file_extension": ".py",
   "mimetype": "text/x-python",
   "name": "python",
   "nbconvert_exporter": "python",
   "pygments_lexer": "ipython3",
   "version": "3.7.6"
  }
 },
 "nbformat": 4,
 "nbformat_minor": 4
}
